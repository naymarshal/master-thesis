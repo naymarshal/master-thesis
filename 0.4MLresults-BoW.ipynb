{
 "cells": [
  {
   "cell_type": "markdown",
   "id": "5d5bd0cf-5388-4f9e-ad60-081c47e888c3",
   "metadata": {},
   "source": [
    "**TRAINING ML AND RESULTS**"
   ]
  },
  {
   "cell_type": "markdown",
   "id": "909fe491-3e60-40ca-9dc6-5e7dd6c505f3",
   "metadata": {},
   "source": [
    "Import libraries"
   ]
  },
  {
   "cell_type": "code",
   "execution_count": 1,
   "id": "3ba176b3-3394-46c1-8cf9-edc083451726",
   "metadata": {},
   "outputs": [],
   "source": [
    "import pandas as pd\n",
    "import numpy as np\n",
    "from sklearn.model_selection import train_test_split\n",
    "from sklearn.metrics import classification_report,confusion_matrix \n",
    "from sklearn.feature_extraction.text import CountVectorizer\n",
    "import seaborn as sns\n",
    "import matplotlib.pyplot as plt\n",
    "import time\n",
    "from sklearn.naive_bayes import MultinomialNB\n",
    "from sklearn.svm import SVC\n",
    "from sklearn.ensemble import RandomForestClassifier"
   ]
  },
  {
   "cell_type": "markdown",
   "id": "f372e173-1ff2-49b1-9cc7-01e8b184d955",
   "metadata": {},
   "source": [
    "Import csv"
   ]
  },
  {
   "cell_type": "code",
   "execution_count": 2,
   "id": "166d6205-6461-49ec-836d-4041b97fff77",
   "metadata": {},
   "outputs": [
    {
     "data": {
      "text/html": [
       "<div>\n",
       "<style scoped>\n",
       "    .dataframe tbody tr th:only-of-type {\n",
       "        vertical-align: middle;\n",
       "    }\n",
       "\n",
       "    .dataframe tbody tr th {\n",
       "        vertical-align: top;\n",
       "    }\n",
       "\n",
       "    .dataframe thead th {\n",
       "        text-align: right;\n",
       "    }\n",
       "</style>\n",
       "<table border=\"1\" class=\"dataframe\">\n",
       "  <thead>\n",
       "    <tr style=\"text-align: right;\">\n",
       "      <th></th>\n",
       "      <th>post_id</th>\n",
       "      <th>comment_id</th>\n",
       "      <th>comment_text</th>\n",
       "      <th>polarity</th>\n",
       "      <th>comment_train</th>\n",
       "    </tr>\n",
       "  </thead>\n",
       "  <tbody>\n",
       "    <tr>\n",
       "      <th>0</th>\n",
       "      <td>A1</td>\n",
       "      <td>10001</td>\n",
       "      <td>🍸 firsts</td>\n",
       "      <td>neutral</td>\n",
       "      <td>🍸 first</td>\n",
       "    </tr>\n",
       "    <tr>\n",
       "      <th>1</th>\n",
       "      <td>A1</td>\n",
       "      <td>10004</td>\n",
       "      <td>nice</td>\n",
       "      <td>positive</td>\n",
       "      <td>nice</td>\n",
       "    </tr>\n",
       "    <tr>\n",
       "      <th>2</th>\n",
       "      <td>A1</td>\n",
       "      <td>10005</td>\n",
       "      <td>LIKE BACK</td>\n",
       "      <td>positive</td>\n",
       "      <td>LIKE BACK</td>\n",
       "    </tr>\n",
       "    <tr>\n",
       "      <th>3</th>\n",
       "      <td>A1</td>\n",
       "      <td>10006</td>\n",
       "      <td>❤ ️ ❤ ️ ❤ ️</td>\n",
       "      <td>strongly positive</td>\n",
       "      <td>❤ ️ ❤ ️ ❤ ️</td>\n",
       "    </tr>\n",
       "    <tr>\n",
       "      <th>4</th>\n",
       "      <td>A1</td>\n",
       "      <td>10010</td>\n",
       "      <td>🫣</td>\n",
       "      <td>neutral</td>\n",
       "      <td>🫣</td>\n",
       "    </tr>\n",
       "  </tbody>\n",
       "</table>\n",
       "</div>"
      ],
      "text/plain": [
       "  post_id  comment_id comment_text           polarity comment_train\n",
       "0      A1       10001     🍸 firsts            neutral       🍸 first\n",
       "1      A1       10004         nice           positive          nice\n",
       "2      A1       10005    LIKE BACK           positive     LIKE BACK\n",
       "3      A1       10006  ❤ ️ ❤ ️ ❤ ️  strongly positive   ❤ ️ ❤ ️ ❤ ️\n",
       "4      A1       10010            🫣            neutral             🫣"
      ]
     },
     "execution_count": 2,
     "metadata": {},
     "output_type": "execute_result"
    }
   ],
   "source": [
    "# Define function to read csv file into dataset\n",
    "def read_csv_file(file): \n",
    "    dataset = pd.read_csv(file,header=0)\n",
    "    return dataset\n",
    "\n",
    "# Call funtion on file\n",
    "#df = read_csv_file(r\"C:\\Users\\nayma\\AppData\\Local\\Programs\\Python\\Python312\\Scripts\\thesis\\df_train.csv\")\n",
    "path = r\"C:\\Users\\jmarsal\\AppData\\Local\\anaconda3\\Scripts\\thesis\\df_to_train.csv\"\n",
    "df = read_csv_file(path)\n",
    "\n",
    "df.head()"
   ]
  },
  {
   "cell_type": "markdown",
   "id": "e1d6c427-476d-4354-941c-43643efd877e",
   "metadata": {},
   "source": [
    "**Split data and vectorize**"
   ]
  },
  {
   "cell_type": "code",
   "execution_count": 3,
   "id": "114ff08c-f49c-4391-b8af-b45eaf8c11d2",
   "metadata": {},
   "outputs": [],
   "source": [
    "# Define polarities\n",
    "list_polarity = ['strongly negative', 'negative','neutral','positive','strongly positive']\n",
    "dict_pol = {'strongly negative': 1, 'negative': 2, 'neutral': 3, 'positive': 4, 'strongly positive': 5}\n",
    "\n",
    "# Split into training and testing data\n",
    "x = df['comment_train'].values.astype('U')\n",
    "y = df['polarity']\n",
    "x_train, x_test, y_train, y_test = train_test_split(x,y, stratify=y, test_size=0.20, random_state=42)"
   ]
  },
  {
   "cell_type": "markdown",
   "id": "45480871-58d9-4dbf-8372-d73726c0752e",
   "metadata": {},
   "source": [
    "BoW text vectorizer"
   ]
  },
  {
   "cell_type": "code",
   "execution_count": 4,
   "id": "622f2af4-d71f-4edd-8508-04461255d6e1",
   "metadata": {},
   "outputs": [],
   "source": [
    "# Vectorize text to numbers\n",
    "vec = CountVectorizer(analyzer = 'char', binary = True)\n",
    "x = vec.fit_transform(x).toarray()\n",
    "x_train = vec.fit_transform(x_train).toarray()\n",
    "x_test = vec.transform(x_test).toarray()"
   ]
  },
  {
   "cell_type": "markdown",
   "id": "eddec7dc-1672-4853-a4ce-5ac1bee17077",
   "metadata": {},
   "source": [
    "**NB**"
   ]
  },
  {
   "cell_type": "code",
   "execution_count": 5,
   "id": "4f75f94d-989c-4b31-9edc-55849229efe7",
   "metadata": {},
   "outputs": [
    {
     "name": "stdout",
     "output_type": "stream",
     "text": [
      "Training time 1.6837127208709717\n"
     ]
    }
   ],
   "source": [
    "# Train and time NB\n",
    "model_nb = MultinomialNB() \n",
    "\n",
    "start_time = time.time()\n",
    "\n",
    "model_nb.fit(x_train, y_train)\n",
    "\n",
    "end_time = time.time()\n",
    "elapsed_time = end_time - start_time\n",
    "print(\"Training time\", elapsed_time)"
   ]
  },
  {
   "cell_type": "code",
   "execution_count": 6,
   "id": "f3f07506-ca77-4838-9078-cf50aac585fa",
   "metadata": {},
   "outputs": [
    {
     "name": "stdout",
     "output_type": "stream",
     "text": [
      "                   precision    recall  f1-score   support\n",
      "\n",
      "strongly negative       0.46      0.08      0.14       264\n",
      "         negative       0.39      0.62      0.48       989\n",
      "          neutral       0.28      0.12      0.17       744\n",
      "         positive       0.70      0.19      0.30       193\n",
      "strongly positive       0.76      0.81      0.78      2814\n",
      "\n",
      "         accuracy                           0.61      5004\n",
      "        macro avg       0.52      0.37      0.38      5004\n",
      "     weighted avg       0.60      0.61      0.58      5004\n",
      " 0.5080690383911133\n"
     ]
    }
   ],
   "source": [
    "# Evaluate NB and time testing\n",
    "start_time = time.time()\n",
    "\n",
    "y_pred = model_nb.predict(x_test)\n",
    "\n",
    "end_time = time.time()\n",
    "elapsed_time = end_time - start_time\n",
    "print(classification_report(y_test, y_pred, target_names = list_polarity), elapsed_time)"
   ]
  },
  {
   "cell_type": "markdown",
   "id": "5e5e62dc-4340-49dc-b044-50f12e1462a6",
   "metadata": {},
   "source": [
    "**SVM**"
   ]
  },
  {
   "cell_type": "code",
   "execution_count": 7,
   "id": "c0e39bc9-a454-4248-bf38-8a7b8ddeb7b7",
   "metadata": {},
   "outputs": [
    {
     "name": "stdout",
     "output_type": "stream",
     "text": [
      "Training time 271.43961000442505\n"
     ]
    }
   ],
   "source": [
    "# Train and time SVM\n",
    "model_svm = SVC(kernel='linear')\n",
    "\n",
    "start_time = time.time()\n",
    "\n",
    "model_svm.fit(x_train, y_train)\n",
    "\n",
    "end_time = time.time()\n",
    "elapsed_time = end_time - start_time\n",
    "print(\"Training time\", elapsed_time)"
   ]
  },
  {
   "cell_type": "code",
   "execution_count": 8,
   "id": "50988159-c45d-4cb1-908c-b0d3979b6e19",
   "metadata": {},
   "outputs": [
    {
     "name": "stdout",
     "output_type": "stream",
     "text": [
      "                   precision    recall  f1-score   support\n",
      "\n",
      "strongly negative       0.35      0.09      0.14       264\n",
      "         negative       0.52      0.80      0.63       989\n",
      "          neutral       0.38      0.04      0.07       744\n",
      "         positive       0.61      0.24      0.34       193\n",
      "strongly positive       0.78      0.91      0.84      2814\n",
      "\n",
      "         accuracy                           0.69      5004\n",
      "        macro avg       0.53      0.41      0.41      5004\n",
      "     weighted avg       0.64      0.69      0.63      5004\n",
      " 39.89862036705017\n"
     ]
    }
   ],
   "source": [
    "# Evaluate SVM and test time\n",
    "start_time = time.time()\n",
    "\n",
    "y_pred = model_svm.predict(x_test)\n",
    "\n",
    "end_time = time.time()\n",
    "elapsed_time = end_time - start_time\n",
    "print(classification_report(y_test, y_pred, target_names = list_polarity), elapsed_time)"
   ]
  },
  {
   "cell_type": "markdown",
   "id": "3ff85a29-03e5-4740-8e82-0cb44b8f5939",
   "metadata": {},
   "source": [
    "**RF**"
   ]
  },
  {
   "cell_type": "code",
   "execution_count": 9,
   "id": "8f0f63dd-9bbd-41c5-864b-834a53a43aed",
   "metadata": {},
   "outputs": [
    {
     "name": "stdout",
     "output_type": "stream",
     "text": [
      "Training time 21.417954444885254\n"
     ]
    }
   ],
   "source": [
    "# Train and time RF\n",
    "model_rf = RandomForestClassifier() \n",
    "\n",
    "start_time = time.time()\n",
    "\n",
    "model_rf.fit(x_train, y_train)\n",
    "\n",
    "end_time = time.time()\n",
    "elapsed_time = end_time - start_time\n",
    "print(\"Training time\", elapsed_time)"
   ]
  },
  {
   "cell_type": "code",
   "execution_count": 10,
   "id": "707ea81a-2379-461c-a69a-58da389bd445",
   "metadata": {},
   "outputs": [
    {
     "name": "stdout",
     "output_type": "stream",
     "text": [
      "                   precision    recall  f1-score   support\n",
      "\n",
      "strongly negative       0.28      0.06      0.10       264\n",
      "         negative       0.62      0.71      0.66       989\n",
      "          neutral       0.42      0.28      0.33       744\n",
      "         positive       0.50      0.17      0.25       193\n",
      "strongly positive       0.79      0.91      0.84      2814\n",
      "\n",
      "         accuracy                           0.70      5004\n",
      "        macro avg       0.52      0.43      0.44      5004\n",
      "     weighted avg       0.66      0.70      0.67      5004\n",
      " 0.4260900020599365\n"
     ]
    }
   ],
   "source": [
    "# Evaluate RF and test time\n",
    "start_time = time.time()\n",
    "\n",
    "y_pred = model_rf.predict(x_test)\n",
    "\n",
    "end_time = time.time()\n",
    "elapsed_time = end_time - start_time\n",
    "print(classification_report(y_test, y_pred, target_names = list_polarity), elapsed_time)"
   ]
  },
  {
   "cell_type": "code",
   "execution_count": 11,
   "id": "f1e588e4-09f7-41a0-b0be-b452ff25f69e",
   "metadata": {},
   "outputs": [
    {
     "data": {
      "text/plain": [
       "Text(33.222222222222214, 0.5, 'Actual label')"
      ]
     },
     "execution_count": 11,
     "metadata": {},
     "output_type": "execute_result"
    },
    {
     "data": {
      "image/png": "[encoded data removed]",
      "text/plain": [
       "<Figure size 500x500 with 2 Axes>"
      ]
     },
     "metadata": {},
     "output_type": "display_data"
    }
   ],
   "source": [
    "# Plot confusion matrix\n",
    "cm = confusion_matrix(y_test, y_pred, normalize='true')\n",
    "plt.figure(figsize = (5,5))\n",
    "\n",
    "sns.heatmap(cm,cmap= \"Blues\", \n",
    "            annot = True, \n",
    "            fmt='.2f', \n",
    "            xticklabels = list_polarity, \n",
    "            yticklabels = list_polarity)\n",
    "plt.xlabel(\"Predicted label\")\n",
    "plt.ylabel(\"Actual label\")"
   ]
  }
 ],
 "metadata": {
  "kernelspec": {
   "display_name": "Python 3 (ipykernel)",
   "language": "python",
   "name": "python3"
  },
  "language_info": {
   "codemirror_mode": {
    "name": "ipython",
    "version": 3
   },
   "file_extension": ".py",
   "mimetype": "text/x-python",
   "name": "python",
   "nbconvert_exporter": "python",
   "pygments_lexer": "ipython3",
   "version": "3.11.7"
  }
 },
 "nbformat": 4,
 "nbformat_minor": 5
}
